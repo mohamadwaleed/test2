{
 "cells": [
  {
   "cell_type": "markdown",
   "id": "31890354",
   "metadata": {},
   "source": [
    "# Function"
   ]
  },
  {
   "cell_type": "code",
   "execution_count": 1,
   "id": "626c3196",
   "metadata": {},
   "outputs": [],
   "source": [
    "name=[\"mohamad\",\"waleed\",\"youssif\",\"eyad\"]"
   ]
  },
  {
   "cell_type": "code",
   "execution_count": 2,
   "id": "91bc350a",
   "metadata": {},
   "outputs": [],
   "source": [
    "def up(name):\n",
    "    result=name.upper()\n",
    "    return result"
   ]
  },
  {
   "cell_type": "code",
   "execution_count": 3,
   "id": "74fcb79e",
   "metadata": {},
   "outputs": [
    {
     "data": {
      "text/plain": [
       "'WALEED'"
      ]
     },
     "execution_count": 3,
     "metadata": {},
     "output_type": "execute_result"
    }
   ],
   "source": [
    "up(\"waleed\")"
   ]
  },
  {
   "cell_type": "code",
   "execution_count": 4,
   "id": "fa3d26c3",
   "metadata": {},
   "outputs": [
    {
     "data": {
      "text/plain": [
       "'EYAD'"
      ]
     },
     "execution_count": 4,
     "metadata": {},
     "output_type": "execute_result"
    }
   ],
   "source": [
    "up(\"eyad\")"
   ]
  },
  {
   "cell_type": "markdown",
   "id": "eb27f1fd",
   "metadata": {},
   "source": [
    "# Map function"
   ]
  },
  {
   "cell_type": "code",
   "execution_count": 5,
   "id": "4b921e65",
   "metadata": {},
   "outputs": [],
   "source": [
    "name=[\"mohamad\",\"waleed\",\"youssif\",\"eyad\"]"
   ]
  },
  {
   "cell_type": "code",
   "execution_count": 7,
   "id": "10861742",
   "metadata": {},
   "outputs": [
    {
     "data": {
      "text/plain": [
       "['MOHAMAD', 'WALEED', 'YOUSSIF', 'EYAD']"
      ]
     },
     "execution_count": 7,
     "metadata": {},
     "output_type": "execute_result"
    }
   ],
   "source": [
    "list(map(up,name))"
   ]
  },
  {
   "cell_type": "code",
   "execution_count": null,
   "id": "b9735283",
   "metadata": {},
   "outputs": [],
   "source": []
  }
 ],
 "metadata": {
  "kernelspec": {
   "display_name": "Python 3 (ipykernel)",
   "language": "python",
   "name": "python3"
  },
  "language_info": {
   "codemirror_mode": {
    "name": "ipython",
    "version": 3
   },
   "file_extension": ".py",
   "mimetype": "text/x-python",
   "name": "python",
   "nbconvert_exporter": "python",
   "pygments_lexer": "ipython3",
   "version": "3.11.4"
  }
 },
 "nbformat": 4,
 "nbformat_minor": 5
}
